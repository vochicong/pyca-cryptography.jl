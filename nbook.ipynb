{
 "cells": [
  {
   "cell_type": "code",
   "execution_count": 1,
   "metadata": {},
   "outputs": [],
   "source": [
    "using Conda, Pkg, PyCall, Random"
   ]
  },
  {
   "cell_type": "code",
   "execution_count": 14,
   "metadata": {},
   "outputs": [
    {
     "name": "stderr",
     "output_type": "stream",
     "text": [
      "┌ Info: Running `conda install -y cryptography` in fernet environment\n",
      "└ @ Conda /home/kon/.julia/packages/Conda/x2UxR/src/Conda.jl:127\n"
     ]
    },
    {
     "name": "stdout",
     "output_type": "stream",
     "text": [
      "Collecting package metadata (current_repodata.json): ...working... "
     ]
    },
    {
     "name": "stdout",
     "output_type": "stream",
     "text": [
      "done\n",
      "Solving environment: ...working... "
     ]
    },
    {
     "name": "stdout",
     "output_type": "stream",
     "text": [
      "done\n"
     ]
    },
    {
     "name": "stdout",
     "output_type": "stream",
     "text": [
      "\n",
      "# All requested packages already installed.\n",
      "\n"
     ]
    },
    {
     "name": "stderr",
     "output_type": "stream",
     "text": [
      "\u001b[32m\u001b[1m    Building\u001b[22m\u001b[39m Conda ─→ `~/.julia/scratchspaces/44cfe95a-1eb2-52ea-b672-e2afdf69b78f/6e47d11ea2776bc5627421d59cdcc1296c058071/build.log`\n"
     ]
    },
    {
     "name": "stderr",
     "output_type": "stream",
     "text": [
      "\u001b[32m\u001b[1m    Building\u001b[22m\u001b[39m PyCall → `~/.julia/scratchspaces/44cfe95a-1eb2-52ea-b672-e2afdf69b78f/53b8b07b721b77144a0fbbbc2675222ebf40a02d/build.log`\n"
     ]
    }
   ],
   "source": [
    "Conda.add(\"cryptography\", :fernet)\n",
    "ENV[\"PYTHON\"] = joinpath(Conda.ROOTENV, \"envs/fernet/bin/python\")\n",
    "Pkg.build(\"PyCall\")"
   ]
  },
  {
   "cell_type": "code",
   "execution_count": 3,
   "metadata": {},
   "outputs": [
    {
     "data": {
      "text/plain": [
       "gen_key (generic function with 1 method)"
      ]
     },
     "metadata": {},
     "output_type": "display_data"
    }
   ],
   "source": [
    "function gen_key()\n",
    "    py\"\"\"\n",
    "    from cryptography.fernet import Fernet\n",
    "    key = Fernet.generate_key()\n",
    "    \"\"\"\n",
    "    py\"key\"\n",
    "end"
   ]
  },
  {
   "cell_type": "code",
   "execution_count": 4,
   "metadata": {},
   "outputs": [
    {
     "data": {
      "text/plain": [
       "encrypt (generic function with 1 method)"
      ]
     },
     "metadata": {},
     "output_type": "display_data"
    }
   ],
   "source": [
    "function encrypt(txts::Vector{String}, key::String)\n",
    "    py\"\"\"\n",
    "    from cryptography.fernet import Fernet\n",
    "    f = Fernet($key)\n",
    "    enc = [f.encrypt(bytes(t, 'utf-8')) for t in $txts]\n",
    "    \"\"\"\n",
    "    return py\"enc\"\n",
    "end"
   ]
  },
  {
   "cell_type": "code",
   "execution_count": 5,
   "metadata": {},
   "outputs": [
    {
     "data": {
      "text/plain": [
       "decrypt (generic function with 1 method)"
      ]
     },
     "metadata": {},
     "output_type": "display_data"
    }
   ],
   "source": [
    "function decrypt(tokens::Vector{String}, key::String)\n",
    "    py\"\"\"\n",
    "    from cryptography.fernet import Fernet\n",
    "    f = Fernet($key)\n",
    "    dec = [f.decrypt(t) for t in $tokens]\n",
    "    \"\"\"\n",
    "    return py\"dec\"\n",
    "end"
   ]
  },
  {
   "cell_type": "code",
   "execution_count": 6,
   "metadata": {},
   "outputs": [
    {
     "data": {
      "text/plain": [
       "5"
      ]
     },
     "metadata": {},
     "output_type": "display_data"
    }
   ],
   "source": [
    "n_sample = 5\n",
    "# n_sample = 17*10^4 # encrytion/decryption takes 5 seconds "
   ]
  },
  {
   "cell_type": "code",
   "execution_count": 7,
   "metadata": {},
   "outputs": [
    {
     "data": {
      "text/plain": [
       "5-element Vector{String}:\n",
       " \"前輩名ははで吾前は猫いだで。でま吾吾な。名なでだいまで。でる。\" ⋯ 117 bytes ⋯ \"だなる名。前で。ない。る。はあい。輩はいるは名猫は名前で猫で\"\n",
       " \"。まない輩。ま猫名前だ猫吾名前い猫猫前な。ま吾はい猫はでるまな\" ⋯ 117 bytes ⋯ \"だ。猫前ははあは。でだは。名前は名名は輩な前吾吾は吾名。だ。\"\n",
       " \"吾はい前だまな。。。な名。。名はなだなだだいは猫るまる猫。輩名\" ⋯ 117 bytes ⋯ \"。だ。るで猫だあ前名あでは輩名輩で。輩名輩あ吾だ名。猫な前。\"\n",
       " \"いま。はあ前あまま名ま。前ま輩はだあな。名は輩な。吾はる。まな\" ⋯ 117 bytes ⋯ \"。猫は吾はははるはだはで。だいは前吾猫なま。猫まなは輩。はる\"\n",
       " \"前前。るる。名猫吾は前いは。では吾い前。猫なあまない。名い前前\" ⋯ 117 bytes ⋯ \"名輩猫まで吾は。で吾ま吾。あだ吾猫ま前吾ま。だはは吾で。い前\""
      ]
     },
     "metadata": {},
     "output_type": "display_data"
    }
   ],
   "source": [
    "txts = [randstring(\"吾輩は猫である。名前はまだない。\", 100) for _ in 1:n_sample]"
   ]
  },
  {
   "cell_type": "code",
   "execution_count": 8,
   "metadata": {},
   "outputs": [
    {
     "data": {
      "text/plain": [
       "\"hMIyEXg9mEONwd9DMxm-ypyBURlMqqLDvAsoBCdfRr4=\""
      ]
     },
     "metadata": {},
     "output_type": "display_data"
    }
   ],
   "source": [
    "key = gen_key()"
   ]
  },
  {
   "cell_type": "code",
   "execution_count": 9,
   "metadata": {},
   "outputs": [
    {
     "data": {
      "text/plain": [
       "5-element Vector{String}:\n",
       " \"gAAAAABjnLjtmjXoelUnXnkPFk2kYPN\" ⋯ 423 bytes ⋯ \"X9Z8Kq6JnInjKBhVwcdyegj2McMg==\"\n",
       " \"gAAAAABjnLjtQWmG0tL-GHgF8-tfwGt\" ⋯ 423 bytes ⋯ \"YdFi8uTvpYyjjEo02FwsezLgIGZA==\"\n",
       " \"gAAAAABjnLjt3KMpTaRB-VApIAM9JXM\" ⋯ 423 bytes ⋯ \"v3yfJf_woFGvggTv7a9KJ2yEX4mA==\"\n",
       " \"gAAAAABjnLjt0cwdFr81yUe2JitrpLV\" ⋯ 423 bytes ⋯ \"BAmT03PGCZ7ZolMGWPIflIWTa3SQ==\"\n",
       " \"gAAAAABjnLjtmWHaDfj-x5cSMuXvw64\" ⋯ 423 bytes ⋯ \"jRkhSG84l8D7ys3FtEwK6oIwXzog==\""
      ]
     },
     "metadata": {},
     "output_type": "display_data"
    }
   ],
   "source": [
    "encs = encrypt(txts, key)"
   ]
  },
  {
   "cell_type": "code",
   "execution_count": 10,
   "metadata": {},
   "outputs": [
    {
     "data": {
      "text/plain": [
       "5-element Vector{String}:\n",
       " \"前輩名ははで吾前は猫いだで。でま吾吾な。名なでだいまで。でる。\" ⋯ 117 bytes ⋯ \"だなる名。前で。ない。る。はあい。輩はいるは名猫は名前で猫で\"\n",
       " \"。まない輩。ま猫名前だ猫吾名前い猫猫前な。ま吾はい猫はでるまな\" ⋯ 117 bytes ⋯ \"だ。猫前ははあは。でだは。名前は名名は輩な前吾吾は吾名。だ。\"\n",
       " \"吾はい前だまな。。。な名。。名はなだなだだいは猫るまる猫。輩名\" ⋯ 117 bytes ⋯ \"。だ。るで猫だあ前名あでは輩名輩で。輩名輩あ吾だ名。猫な前。\"\n",
       " \"いま。はあ前あまま名ま。前ま輩はだあな。名は輩な。吾はる。まな\" ⋯ 117 bytes ⋯ \"。猫は吾はははるはだはで。だいは前吾猫なま。猫まなは輩。はる\"\n",
       " \"前前。るる。名猫吾は前いは。では吾い前。猫なあまない。名い前前\" ⋯ 117 bytes ⋯ \"名輩猫まで吾は。で吾ま吾。あだ吾猫ま前吾ま。だはは吾で。い前\""
      ]
     },
     "metadata": {},
     "output_type": "display_data"
    }
   ],
   "source": [
    "decs = decrypt(encs, key)"
   ]
  },
  {
   "cell_type": "code",
   "execution_count": 11,
   "metadata": {},
   "outputs": [],
   "source": [
    "@assert all(decs .== txts)"
   ]
  }
 ],
 "metadata": {
  "kernelspec": {
   "display_name": "Julia 1.8.3",
   "language": "julia",
   "name": "julia-1.8"
  },
  "language_info": {
   "file_extension": ".jl",
   "mimetype": "application/julia",
   "name": "julia",
   "version": "1.8.3"
  },
  "orig_nbformat": 4
 },
 "nbformat": 4,
 "nbformat_minor": 2
}
